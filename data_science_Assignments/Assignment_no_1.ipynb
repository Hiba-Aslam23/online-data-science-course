{
 "cells": [
  {
   "cell_type": "code",
   "execution_count": 8,
   "id": "37fcafdc",
   "metadata": {},
   "outputs": [
    {
     "name": "stdout",
     "output_type": "stream",
     "text": [
      "Twinkle, twinkle, little star, \n",
      "\tHow I wonder what you are! \n",
      "\t\tUp above the world so high, \n",
      "\t\tLike a diamond in the sky. \n",
      "Twinkle, twinkle, little star, \n",
      "\tHow I wonder what you are!\n"
     ]
    }
   ],
   "source": [
    "# Q.no1: write a python program to print the following string in specific format (see the output)\n",
    "\n",
    "\n",
    "    print(\"Twinkle, twinkle, little star, \\n\\tHow I wonder what you are! \\n\\t\\tUp above the world so high, \\n\\t\\tLike a diamond in the sky. \\nTwinkle, twinkle, little star, \\n\\tHow I wonder what you are!\")\n"
   ]
  },
  {
   "cell_type": "code",
   "execution_count": 1,
   "id": "c481c3a3",
   "metadata": {},
   "outputs": [
    {
     "name": "stdout",
     "output_type": "stream",
     "text": [
      "3.9.7 (default, Sep 16 2021, 16:59:28) [MSC v.1916 64 bit (AMD64)]\n"
     ]
    }
   ],
   "source": [
    "# Q.no.2: Write a python program to get the python version you are using.\n",
    "\n",
    "import sys\n",
    "print(sys.version)\n"
   ]
  },
  {
   "cell_type": "code",
   "execution_count": 2,
   "id": "b74eab8c",
   "metadata": {},
   "outputs": [
    {
     "name": "stdout",
     "output_type": "stream",
     "text": [
      "Current date and time : \n",
      "2021-12-31 21:36:01\n"
     ]
    }
   ],
   "source": [
    "# Q.no3: Write a python program to display the current date and time.\n",
    "\n",
    "import datetime\n",
    "now = datetime.datetime.now()\n",
    "print (\"Current date and time : \")\n",
    "print (now.strftime(\"%Y-%m-%d %H:%M:%S\"))"
   ]
  },
  {
   "cell_type": "code",
   "execution_count": 5,
   "id": "ccaebd3d",
   "metadata": {},
   "outputs": [
    {
     "name": "stdout",
     "output_type": "stream",
     "text": [
      "Input the radius of the circle : 5\n",
      "The area of the circle with radius 5.0 is: 78.53981633974483\n"
     ]
    }
   ],
   "source": [
    "# Q.no4: write a python program which accepts the radius of circle from the user and compute the area.\n",
    "\n",
    "from math import pi\n",
    "r_c = float(input (\"Input the radius of the circle : \"))\n",
    "print (\"The area of the circle with radius \" + str(r_c) + \" is: \" + str(pi * r_c**2))"
   ]
  },
  {
   "cell_type": "code",
   "execution_count": 6,
   "id": "ad98f07a",
   "metadata": {},
   "outputs": [
    {
     "name": "stdout",
     "output_type": "stream",
     "text": [
      "Enter your First Name : Hiba\n",
      "Enter your Last Name : Aslam\n",
      "Aslam Hiba\n"
     ]
    }
   ],
   "source": [
    "# Q.no5: Write apython program which accepts the user's first and last name and print them in reverse\n",
    "#        order with a space between them.\n",
    "\n",
    "f_name = input(\"Enter your First Name : \")\n",
    "l_name = input(\"Enter your Last Name : \")\n",
    "print ( l_name + \" \" + f_name)"
   ]
  },
  {
   "cell_type": "code",
   "execution_count": 7,
   "id": "450ef20b",
   "metadata": {},
   "outputs": [
    {
     "name": "stdout",
     "output_type": "stream",
     "text": [
      "Enter first number: 5\n",
      "Enter second number: 6\n",
      "The sum is:  11\n"
     ]
    }
   ],
   "source": [
    "# Q.no6: Write a python program which takes two inputs from user and print them addition.\n",
    "\n",
    "f_in = input(\"Enter first number: \")\n",
    "s_in= input(\"Enter second number: \")\n",
    "\n",
    "sum = int(f_in) + int(s_in)\n",
    "\n",
    "print(\"The sum is: \", sum) "
   ]
  }
 ],
 "metadata": {
  "kernelspec": {
   "display_name": "Python 3 (ipykernel)",
   "language": "python",
   "name": "python3"
  },
  "language_info": {
   "codemirror_mode": {
    "name": "ipython",
    "version": 3
   },
   "file_extension": ".py",
   "mimetype": "text/x-python",
   "name": "python",
   "nbconvert_exporter": "python",
   "pygments_lexer": "ipython3",
   "version": "3.9.7"
  }
 },
 "nbformat": 4,
 "nbformat_minor": 5
}
